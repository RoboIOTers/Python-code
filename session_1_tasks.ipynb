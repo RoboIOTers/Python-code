{
  "nbformat": 4,
  "nbformat_minor": 0,
  "metadata": {
    "colab": {
      "provenance": [],
      "include_colab_link": true
    },
    "kernelspec": {
      "name": "python3",
      "display_name": "Python 3"
    },
    "language_info": {
      "name": "python"
    }
  },
  "cells": [
    {
      "cell_type": "markdown",
      "metadata": {
        "id": "view-in-github",
        "colab_type": "text"
      },
      "source": [
        "<a href=\"https://colab.research.google.com/github/RoboIOTers/Python-code/blob/main/session_1_tasks.ipynb\" target=\"_parent\"><img src=\"https://colab.research.google.com/assets/colab-badge.svg\" alt=\"Open In Colab\"/></a>"
      ]
    },
    {
      "cell_type": "markdown",
      "source": [
        "# Task : Session 1\n",
        "Solve these questions own your own and try to test yourself what you have learned in the session.\n",
        "\n",
        "Happy Learning!"
      ],
      "metadata": {
        "id": "A05OG15VqOPF"
      }
    },
    {
      "cell_type": "markdown",
      "source": [
        "### Q1 :- Print the given strings as per stated format.\n",
        "\n",
        "**Given strings**: \n",
        "```\n",
        "\"Data\" \"Science\" \"Mentorship\" \"Program\" \n",
        "\"By\" \"CampusX\"\n",
        "```\n",
        "**Output**: \n",
        "``` \n",
        "Data-Science-Mentorship-Program-started-By-CampusX\n",
        "```\n",
        "\n",
        "Concept- [Seperator and End]"
      ],
      "metadata": {
        "id": "2doIXf8bqe9_"
      }
    },
    {
      "cell_type": "code",
      "source": [
        "# Write your code here\n",
        "print(\"Data\",\"Science\",\"Mentorship\",\"Program\",\"By\",\"CampusX\", sep='-')"
      ],
      "metadata": {
        "id": "-em6d3KErDtp",
        "outputId": "b0ad18e6-d691-4421-ff47-f63cb55cc778",
        "colab": {
          "base_uri": "https://localhost:8080/"
        }
      },
      "execution_count": 1,
      "outputs": [
        {
          "output_type": "stream",
          "name": "stdout",
          "text": [
            "Data-Science-Mentorship-Program-By-CampusX\n"
          ]
        }
      ]
    },
    {
      "cell_type": "markdown",
      "source": [
        "### Q2:- Write a program that will convert celsius value to fahrenheit."
      ],
      "metadata": {
        "id": "1KUpN7ZTrC3_"
      }
    },
    {
      "cell_type": "code",
      "source": [
        "# Write your code here\n",
        "cel = float(input(\"enter in celcius\"))\n",
        "fahren = (cel*9/5) +32\n",
        "print(\"temperature in fahrenheit is \",fahren)\n"
      ],
      "metadata": {
        "id": "yxKYhYQiqWfj",
        "outputId": "176a6a6a-d960-4ab0-945b-b7cb6051d511",
        "colab": {
          "base_uri": "https://localhost:8080/"
        }
      },
      "execution_count": 3,
      "outputs": [
        {
          "output_type": "stream",
          "name": "stdout",
          "text": [
            "enter in celcius0\n",
            "temperature in fahrenheit is  32.0\n"
          ]
        }
      ]
    },
    {
      "cell_type": "markdown",
      "source": [
        "### Q3:- Take 2 numbers as input from the user.Write a program to swap the numbers without using any special python syntax."
      ],
      "metadata": {
        "id": "RLrOBBJurLB2"
      }
    },
    {
      "cell_type": "code",
      "source": [
        "# Write your code here\n",
        "num1 = float(input(\"enter first number\"))\n",
        "num2 = float(input(\"enter 2nd number\"))\n",
        "temp = num1\n",
        "num1 = num2\n",
        "num2 = temp\n",
        "print (\"the swapped numbers are num1 and number two\",num1,num2)"
      ],
      "metadata": {
        "id": "yPn7if0TrJ4F",
        "outputId": "0f745373-4f7a-41c3-8112-8f47e776a407",
        "colab": {
          "base_uri": "https://localhost:8080/"
        }
      },
      "execution_count": 5,
      "outputs": [
        {
          "output_type": "stream",
          "name": "stdout",
          "text": [
            "enter first number23\n",
            "enter 2nd number34\n",
            "the swapped numbers are num1 and number two 34.0 23.0\n"
          ]
        }
      ]
    },
    {
      "cell_type": "markdown",
      "source": [
        "### Q4:- Write a program to find the euclidean distance between two coordinates.Take both the coordinates from the user as input."
      ],
      "metadata": {
        "id": "waLCP1bjr7ML"
      }
    },
    {
      "cell_type": "code",
      "source": [
        "# Write your code here\n",
        "x1 = float(input(\"enter x1\"))\n",
        "y1 = float(input(\"enter  y1\"))\n",
        "x2 = float(input(\"enter x2\"))\n",
        "y2 = float(input(\"enter  y2\"))\n",
        "distance = pow(pow((y2-y1),2) + pow((x2-x1),2),0.5)\n",
        "print(distance)"
      ],
      "metadata": {
        "id": "Pl1Sv-xnrxnH",
        "outputId": "2837065d-71c3-435a-dcdc-ca991bd702e9",
        "colab": {
          "base_uri": "https://localhost:8080/"
        }
      },
      "execution_count": 8,
      "outputs": [
        {
          "output_type": "stream",
          "name": "stdout",
          "text": [
            "enter x12\n",
            "enter  y12\n",
            "enter x24\n",
            "enter  y24\n",
            "2.8284271247461903\n"
          ]
        }
      ]
    },
    {
      "cell_type": "markdown",
      "source": [
        "### Q5:- Write a program to find the simple interest when the value of principle,rate of interest and time period is provided by the user.\n"
      ],
      "metadata": {
        "id": "VLrhg-FRsHjR"
      }
    },
    {
      "cell_type": "code",
      "source": [
        "# Write your code here\n",
        "p = float(input(\"enter Principle\"))\n",
        "r = float(input(\"enter  rate of interest\"))\n",
        "t = float(input(\"enter time period in years\"))\n",
        "si = (p*r*t)/100\n",
        "print( si)"
      ],
      "metadata": {
        "id": "s40DlReZsTmY",
        "outputId": "dc71dd6f-92f5-49c7-9be8-f4d38c1b2e0f",
        "colab": {
          "base_uri": "https://localhost:8080/"
        }
      },
      "execution_count": 9,
      "outputs": [
        {
          "output_type": "stream",
          "name": "stdout",
          "text": [
            "enter Principle1000\n",
            "enter  rate of interest5\n",
            "enter time period in years2\n",
            "100.0\n"
          ]
        }
      ]
    },
    {
      "cell_type": "markdown",
      "source": [
        "### Q6:- Write a program that will tell the number of dogs and chicken are there when the user will provide the value of total heads and legs.\n",
        "\n",
        "For example:\n",
        "Input:\n",
        "heads -> 4\n",
        "legs -> 12\n",
        "<br>\n",
        "Output:\n",
        "dogs -> 2\n",
        "chicken -> 2\n",
        "\n",
        "\n",
        "\n"
      ],
      "metadata": {
        "id": "LMy0BTUktYKa"
      }
    },
    {
      "cell_type": "code",
      "source": [
        "# Write your code here\n",
        "h = float(input(\"enter number of heads\"))\n",
        "l = float(input(\"enter  number of legs\"))\n",
        "\n",
        "dogs = (l-2*h)/2\n",
        "chickens = h- dogs\n",
        "print(\"number of dogs\",dogs)\n",
        "print(\"number of chickens\",chickens)"
      ],
      "metadata": {
        "id": "XSBvJoA4tXaG",
        "outputId": "cab9e042-f6dc-4e91-9ae1-08fb46f2bce5",
        "colab": {
          "base_uri": "https://localhost:8080/"
        }
      },
      "execution_count": 13,
      "outputs": [
        {
          "output_type": "stream",
          "name": "stdout",
          "text": [
            "enter number of heads12\n",
            "enter  number of legs44\n",
            "number of dogs 10.0\n",
            "number of chickens 2.0\n"
          ]
        }
      ]
    },
    {
      "cell_type": "markdown",
      "source": [
        "### Q7:- Write a program to find the sum of squares of first n natural numbers where n will be provided by the user."
      ],
      "metadata": {
        "id": "gJ7C5kZYt4BP"
      }
    },
    {
      "cell_type": "code",
      "source": [
        "# Write your code here\n",
        "n = float(input(\"enter n\"))\n",
        "sum = n*(n+1)*(2*n+1)/6\n",
        "print(sum)"
      ],
      "metadata": {
        "id": "_tHsmEHzt2nX",
        "outputId": "27562777-16ca-4c37-dff6-efe548465b7c",
        "colab": {
          "base_uri": "https://localhost:8080/"
        }
      },
      "execution_count": 14,
      "outputs": [
        {
          "output_type": "stream",
          "name": "stdout",
          "text": [
            "enter n4\n",
            "30.0\n"
          ]
        }
      ]
    },
    {
      "cell_type": "markdown",
      "source": [
        "### Q8:- Given the first 2 terms of an Arithmetic Series.Find the Nth term of the series. Assume all inputs are provided by the user."
      ],
      "metadata": {
        "id": "FHrMM7g-yG1h"
      }
    },
    {
      "cell_type": "code",
      "source": [
        "# Write your code here\n",
        "a1 = float(input(\"enter first term\"))\n",
        "a2 = float(input(\"enter  second term\"))\n",
        "n= int(input(\"enter n\"))\n",
        "nth_term= a1 + (n-1)*(a2-a1)\n",
        "print(\"nth term\",nth_term)"
      ],
      "metadata": {
        "id": "go4_kmZmyVSx",
        "outputId": "9357f5d1-f25f-4ee9-a8b2-6bcf73c4ed1d",
        "colab": {
          "base_uri": "https://localhost:8080/"
        }
      },
      "execution_count": 15,
      "outputs": [
        {
          "output_type": "stream",
          "name": "stdout",
          "text": [
            "enter first term2\n",
            "enter  second term4\n",
            "enter n4\n",
            "nth term 8.0\n"
          ]
        }
      ]
    },
    {
      "cell_type": "markdown",
      "source": [
        "### Q9:- Given 2 fractions, find the sum of those 2 fractions.Take the numerator and denominator values of the fractions from the user."
      ],
      "metadata": {
        "id": "QgyRX_es1oum"
      }
    },
    {
      "cell_type": "code",
      "source": [
        "# Write your code here\n",
        "n1 = float(input(\"enter numberator of first fraction\"))\n",
        "d1 = float(input(\"enter denominator of first fraction\"))\n",
        "n23 = float(input(\"enter numberator of 2nd fraction\"))\n",
        "d2 = float(input(\"enter  denominator of 2nd fraction\"))\n",
        "lcm = d1*d2\n",
        "r1 = lcm / d1\n",
        "r2 = lcm / d2\n",
        "ans_num = r1 * n1 + r2 * n2\n",
        "print(ans_num,'/',lcm, end=\"\" )\n",
        "\n"
      ],
      "metadata": {
        "id": "X05xqFS1yW16",
        "outputId": "962878b9-6056-4934-a40c-de8ac2afff9e",
        "colab": {
          "base_uri": "https://localhost:8080/"
        }
      },
      "execution_count": 18,
      "outputs": [
        {
          "output_type": "stream",
          "name": "stdout",
          "text": [
            "enter numberator of first fraction2\n",
            "enter denominator of first fraction3\n",
            "enter numberator of 2nd fraction4\n",
            "enter  denominator of 2nd fraction5\n",
            "22.0 / 15.0"
          ]
        }
      ]
    },
    {
      "cell_type": "markdown",
      "source": [
        "### Q10:- Given the height, width and breadth of a milk tank, you have to find out how many glasses of milk can be obtained? Assume all the inputs are provided by the user.\n",
        "\n",
        "\n",
        "\n",
        "Input:<br>\n",
        "Dimensions of the milk tank<br>\n",
        "H = 20cm, L = 20cm, B = 20cm\n",
        "<br><br>\n",
        "Dimensions of the glass<br>\n",
        "h = 3cm, r = 1cm"
      ],
      "metadata": {
        "id": "eaql38ln13u7"
      }
    },
    {
      "cell_type": "code",
      "source": [
        "# Write your code here\n",
        "h = float(input(\"enter height of milk tank\"))\n",
        "w = float(input(\"enter width of milk tank\"))\n",
        "b = float(input(\"enter breadth of milk tank\"))\n",
        "gh = float(input(\"enter height of glass\"))\n",
        "gr = float(input(\"enter radius of glass\"))\n",
        "vol_tank = h*w*b\n",
        "vol_glass = 3.14*gr*gr*gh\n",
        "print(\"number of glasses of milk\",vol_tank/vol_glass)"
      ],
      "metadata": {
        "id": "FePZqno74eWv",
        "outputId": "6f6a70c0-3aa3-4bc5-f848-618b26c7aa08",
        "colab": {
          "base_uri": "https://localhost:8080/"
        }
      },
      "execution_count": 21,
      "outputs": [
        {
          "output_type": "stream",
          "name": "stdout",
          "text": [
            "enter height of milk tank3\n",
            "enter width of milk tank5\n",
            "enter breadth of milk tank6\n",
            "enter height of glass2\n",
            "enter radius of glass2\n",
            "number of glasses of milk 3.5828025477707004\n"
          ]
        }
      ]
    }
  ]
}